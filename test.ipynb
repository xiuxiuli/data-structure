{
  "nbformat": 4,
  "nbformat_minor": 0,
  "metadata": {
    "colab": {
      "provenance": [],
      "authorship_tag": "ABX9TyMOaKSPK2w8zJ5keZTNAfrJ",
      "include_colab_link": true
    },
    "kernelspec": {
      "name": "python3",
      "display_name": "Python 3"
    },
    "language_info": {
      "name": "python"
    }
  },
  "cells": [
    {
      "cell_type": "markdown",
      "metadata": {
        "id": "view-in-github",
        "colab_type": "text"
      },
      "source": [
        "<a href=\"https://colab.research.google.com/github/xiuxiuli/data-structure/blob/main/test.ipynb\" target=\"_parent\"><img src=\"https://colab.research.google.com/assets/colab-badge.svg\" alt=\"Open In Colab\"/></a>"
      ]
    },
    {
      "cell_type": "code",
      "execution_count": 1,
      "metadata": {
        "colab": {
          "base_uri": "https://localhost:8080/"
        },
        "id": "yg2qESZO6W72",
        "outputId": "78e63d19-d179-466f-d7b0-01fc45264c31"
      },
      "outputs": [
        {
          "output_type": "stream",
          "name": "stdout",
          "text": [
            "Predicted class: 0\n"
          ]
        }
      ],
      "source": [
        "import numpy as np\n",
        "from collections import Counter\n",
        "\n",
        "# 样本点：二维特征\n",
        "X_train = np.array([\n",
        "    [1, 2],\n",
        "    [2, 3],\n",
        "    [3, 3],\n",
        "    [6, 5],\n",
        "    [7, 7],\n",
        "    [8, 6]\n",
        "])\n",
        "\n",
        "# 标签：0 or 1\n",
        "y_train = np.array([0, 0, 0, 1, 1, 1])\n",
        "\n",
        "# 预测点\n",
        "x_test = np.array([4, 4])\n",
        "\n",
        "def euclidean_distance(x1, x2):\n",
        "    return np.sqrt(np.sum((x1 - x2) ** 2))\n",
        "\n",
        "def knn_predict(x_test, X_train, y_train, k=3):\n",
        "    # Step 1: 计算所有距离\n",
        "    distances = [euclidean_distance(x_test, x_train) for x_train in X_train]\n",
        "\n",
        "    # Step 2: 找到最近的 k 个索引\n",
        "    k_indices = np.argsort(distances)[:k]\n",
        "\n",
        "    # Step 3: 找到这些索引对应的标签\n",
        "    k_neighbor_labels = [y_train[i] for i in k_indices]\n",
        "\n",
        "    # Step 4: 投票（多数）\n",
        "    most_common = Counter(k_neighbor_labels).most_common(1)\n",
        "    return most_common[0][0]\n",
        "\n",
        "# 使用\n",
        "prediction = knn_predict(x_test, X_train, y_train, k=3)\n",
        "print(f\"Predicted class: {prediction}\")\n",
        "\n"
      ]
    }
  ]
}